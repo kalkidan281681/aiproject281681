{
 "cells": [
  {
   "attachments": {},
   "cell_type": "markdown",
   "id": "f0e1221d",
   "metadata": {},
   "source": [
    "# AI PROJECT <br>\n",
    "## SafeComm Digital Security Solutions"
   ]
  },
  {
   "attachments": {},
   "cell_type": "markdown",
   "id": "f457a5cb",
   "metadata": {},
   "source": [
    "<i> Authors: Ana Andrijasevic, Cherine Abboud, Kalkidan Mezgebe </i>"
   ]
  },
  {
   "attachments": {},
   "cell_type": "markdown",
   "id": "01653038",
   "metadata": {},
   "source": [
    "In today's digital age, the rise of SMS-based communication has led to a significant increase in fraudulent messages. The <i> \"SafeComm Digital Security Solutions\" </i> project aims to address this issue by developing an advanced machine-learning system, capable of  accurately identifying and flagging fraudulent SMS messages. Our goal is to enhance digital communication security and protect users from potential scams and malicious activities.  For that we use a dataset containing SMS messages that are labeled as either   fraudulent or legitimate (Binary indicator if the SMS is fraudulent (1 for Yes, 0 for No))<br>\n",
    "Our project will obviously be dealing with a classification problem, more specifically: binary classification. We can tell this because classification is a type of supervised learning algorithm where machines learn to make predictions by being trained on labeled data. And we are clearly given a binary indicator if the SMS is fraudulent or not (1 and 0) and our model is supposed to classify the output in one of those two categories."
   ]
  },
  {
   "attachments": {},
   "cell_type": "markdown",
   "id": "2d9de49f",
   "metadata": {},
   "source": [
    "Firstly, we will download some libraries tht are needed"
   ]
  },
  {
   "cell_type": "code",
   "execution_count": 157,
   "id": "39080f8e",
   "metadata": {},
   "outputs": [],
   "source": [
    "import numpy as np\n",
    "import pandas as pd\n",
    "import matplotlib.pyplot as plt\n",
    "import seaborn as sns\n",
    "%matplotlib inline"
   ]
  },
  {
   "cell_type": "markdown",
   "id": "aec36097",
   "metadata": {},
   "source": [
    "In this initial cell, we imported several essential libraries required for data manipulation, visualization, and machine learning. We imported libraries such as numpy and pandas are fundamental for handling and processing data efficiently. We used matplotlib and seaborn as a tool that will help us in understanding data distributions and patterns through graphical representations."
   ]
  },
  {
   "cell_type": "code",
   "execution_count": 158,
   "id": "803479fc",
   "metadata": {},
   "outputs": [],
   "source": [
    "# Load the dataset\n",
    "sms_data = pd.read_csv('sms.csv')"
   ]
  },
  {
   "cell_type": "code",
   "execution_count": 125,
   "id": "58e76002",
   "metadata": {},
   "outputs": [
    {
     "data": {
      "text/html": [
       "<div>\n",
       "<style scoped>\n",
       "    .dataframe tbody tr th:only-of-type {\n",
       "        vertical-align: middle;\n",
       "    }\n",
       "\n",
       "    .dataframe tbody tr th {\n",
       "        vertical-align: top;\n",
       "    }\n",
       "\n",
       "    .dataframe thead th {\n",
       "        text-align: right;\n",
       "    }\n",
       "</style>\n",
       "<table border=\"1\" class=\"dataframe\">\n",
       "  <thead>\n",
       "    <tr style=\"text-align: right;\">\n",
       "      <th></th>\n",
       "      <th>Fraudolent</th>\n",
       "      <th>SMS test</th>\n",
       "      <th>ID</th>\n",
       "      <th>Date and Time</th>\n",
       "    </tr>\n",
       "  </thead>\n",
       "  <tbody>\n",
       "    <tr>\n",
       "      <th>0</th>\n",
       "      <td>0</td>\n",
       "      <td>Squeeeeeze!! This is christmas hug.. If u lik ...</td>\n",
       "      <td>1EWYRBL</td>\n",
       "      <td>2017-12-02</td>\n",
       "    </tr>\n",
       "    <tr>\n",
       "      <th>1</th>\n",
       "      <td>0</td>\n",
       "      <td>And also I've sorta blown him off a couple tim...</td>\n",
       "      <td>ZY4PDK7</td>\n",
       "      <td>2018-03-23</td>\n",
       "    </tr>\n",
       "    <tr>\n",
       "      <th>2</th>\n",
       "      <td>0</td>\n",
       "      <td>Mmm thats better now i got a roast down me! i...</td>\n",
       "      <td>KLUX2C6</td>\n",
       "      <td>2016-10-29</td>\n",
       "    </tr>\n",
       "    <tr>\n",
       "      <th>3</th>\n",
       "      <td>0</td>\n",
       "      <td>Mm have some kanji dont eat anything heavy ok</td>\n",
       "      <td>955HXJ0</td>\n",
       "      <td>2018-04-12</td>\n",
       "    </tr>\n",
       "    <tr>\n",
       "      <th>4</th>\n",
       "      <td>0</td>\n",
       "      <td>So there's a ring that comes with the guys cos...</td>\n",
       "      <td>00Q6EUC</td>\n",
       "      <td>2016-08-01</td>\n",
       "    </tr>\n",
       "  </tbody>\n",
       "</table>\n",
       "</div>"
      ],
      "text/plain": [
       "   Fraudolent                                           SMS test       ID  \\\n",
       "0           0  Squeeeeeze!! This is christmas hug.. If u lik ...  1EWYRBL   \n",
       "1           0  And also I've sorta blown him off a couple tim...  ZY4PDK7   \n",
       "2           0  Mmm thats better now i got a roast down me! i...  KLUX2C6   \n",
       "3           0      Mm have some kanji dont eat anything heavy ok  955HXJ0   \n",
       "4           0  So there's a ring that comes with the guys cos...  00Q6EUC   \n",
       "\n",
       "  Date and Time  \n",
       "0    2017-12-02  \n",
       "1    2018-03-23  \n",
       "2    2016-10-29  \n",
       "3    2018-04-12  \n",
       "4    2016-08-01  "
      ]
     },
     "execution_count": 125,
     "metadata": {},
     "output_type": "execute_result"
    }
   ],
   "source": [
    "# Display the first few rows of the dataset to understand its structure\n",
    "sms_data.head()"
   ]
  },
  {
   "cell_type": "code",
   "execution_count": 126,
   "id": "2ba60bca",
   "metadata": {
    "scrolled": true
   },
   "outputs": [
    {
     "data": {
      "text/html": [
       "<div>\n",
       "<style scoped>\n",
       "    .dataframe tbody tr th:only-of-type {\n",
       "        vertical-align: middle;\n",
       "    }\n",
       "\n",
       "    .dataframe tbody tr th {\n",
       "        vertical-align: top;\n",
       "    }\n",
       "\n",
       "    .dataframe thead tr th {\n",
       "        text-align: left;\n",
       "    }\n",
       "\n",
       "    .dataframe thead tr:last-of-type th {\n",
       "        text-align: right;\n",
       "    }\n",
       "</style>\n",
       "<table border=\"1\" class=\"dataframe\">\n",
       "  <thead>\n",
       "    <tr>\n",
       "      <th></th>\n",
       "      <th colspan=\"4\" halign=\"left\">SMS test</th>\n",
       "      <th colspan=\"4\" halign=\"left\">ID</th>\n",
       "      <th colspan=\"4\" halign=\"left\">Date and Time</th>\n",
       "    </tr>\n",
       "    <tr>\n",
       "      <th></th>\n",
       "      <th>count</th>\n",
       "      <th>unique</th>\n",
       "      <th>top</th>\n",
       "      <th>freq</th>\n",
       "      <th>count</th>\n",
       "      <th>unique</th>\n",
       "      <th>top</th>\n",
       "      <th>freq</th>\n",
       "      <th>count</th>\n",
       "      <th>unique</th>\n",
       "      <th>top</th>\n",
       "      <th>freq</th>\n",
       "    </tr>\n",
       "    <tr>\n",
       "      <th>Fraudolent</th>\n",
       "      <th></th>\n",
       "      <th></th>\n",
       "      <th></th>\n",
       "      <th></th>\n",
       "      <th></th>\n",
       "      <th></th>\n",
       "      <th></th>\n",
       "      <th></th>\n",
       "      <th></th>\n",
       "      <th></th>\n",
       "      <th></th>\n",
       "      <th></th>\n",
       "    </tr>\n",
       "  </thead>\n",
       "  <tbody>\n",
       "    <tr>\n",
       "      <th>0</th>\n",
       "      <td>4825</td>\n",
       "      <td>4516</td>\n",
       "      <td>Sorry, I'll call later</td>\n",
       "      <td>30</td>\n",
       "      <td>4825</td>\n",
       "      <td>4825</td>\n",
       "      <td>1EWYRBL</td>\n",
       "      <td>1</td>\n",
       "      <td>4825</td>\n",
       "      <td>944</td>\n",
       "      <td>2018-08-27</td>\n",
       "      <td>14</td>\n",
       "    </tr>\n",
       "    <tr>\n",
       "      <th>1</th>\n",
       "      <td>747</td>\n",
       "      <td>641</td>\n",
       "      <td>Please call our customer service representativ...</td>\n",
       "      <td>4</td>\n",
       "      <td>747</td>\n",
       "      <td>747</td>\n",
       "      <td>GE34AAU</td>\n",
       "      <td>1</td>\n",
       "      <td>747</td>\n",
       "      <td>511</td>\n",
       "      <td>2016-12-21</td>\n",
       "      <td>4</td>\n",
       "    </tr>\n",
       "  </tbody>\n",
       "</table>\n",
       "</div>"
      ],
      "text/plain": [
       "           SMS test                                                            \\\n",
       "              count unique                                                top   \n",
       "Fraudolent                                                                      \n",
       "0              4825   4516                             Sorry, I'll call later   \n",
       "1               747    641  Please call our customer service representativ...   \n",
       "\n",
       "                   ID                      Date and Time                     \\\n",
       "           freq count unique      top freq         count unique         top   \n",
       "Fraudolent                                                                    \n",
       "0            30  4825   4825  1EWYRBL    1          4825    944  2018-08-27   \n",
       "1             4   747    747  GE34AAU    1           747    511  2016-12-21   \n",
       "\n",
       "                 \n",
       "           freq  \n",
       "Fraudolent       \n",
       "0            14  \n",
       "1             4  "
      ]
     },
     "execution_count": 126,
     "metadata": {},
     "output_type": "execute_result"
    }
   ],
   "source": [
    "sms_data.groupby('Fraudolent').describe()"
   ]
  },
  {
   "cell_type": "code",
   "execution_count": 127,
   "id": "b9159500",
   "metadata": {
    "scrolled": true
   },
   "outputs": [
    {
     "data": {
      "text/html": [
       "<div>\n",
       "<style scoped>\n",
       "    .dataframe tbody tr th:only-of-type {\n",
       "        vertical-align: middle;\n",
       "    }\n",
       "\n",
       "    .dataframe tbody tr th {\n",
       "        vertical-align: top;\n",
       "    }\n",
       "\n",
       "    .dataframe thead th {\n",
       "        text-align: right;\n",
       "    }\n",
       "</style>\n",
       "<table border=\"1\" class=\"dataframe\">\n",
       "  <thead>\n",
       "    <tr style=\"text-align: right;\">\n",
       "      <th></th>\n",
       "      <th>ID</th>\n",
       "      <th>SMS test</th>\n",
       "      <th>Date and Time</th>\n",
       "      <th>Length</th>\n",
       "      <th>Fraudolent</th>\n",
       "    </tr>\n",
       "  </thead>\n",
       "  <tbody>\n",
       "    <tr>\n",
       "      <th>0</th>\n",
       "      <td>1EWYRBL</td>\n",
       "      <td>Squeeeeeze!! This is christmas hug.. If u lik ...</td>\n",
       "      <td>2017-12-02</td>\n",
       "      <td>147</td>\n",
       "      <td>0</td>\n",
       "    </tr>\n",
       "    <tr>\n",
       "      <th>1</th>\n",
       "      <td>ZY4PDK7</td>\n",
       "      <td>And also I've sorta blown him off a couple tim...</td>\n",
       "      <td>2018-03-23</td>\n",
       "      <td>116</td>\n",
       "      <td>0</td>\n",
       "    </tr>\n",
       "    <tr>\n",
       "      <th>2</th>\n",
       "      <td>KLUX2C6</td>\n",
       "      <td>Mmm thats better now i got a roast down me! i...</td>\n",
       "      <td>2016-10-29</td>\n",
       "      <td>102</td>\n",
       "      <td>0</td>\n",
       "    </tr>\n",
       "    <tr>\n",
       "      <th>3</th>\n",
       "      <td>955HXJ0</td>\n",
       "      <td>Mm have some kanji dont eat anything heavy ok</td>\n",
       "      <td>2018-04-12</td>\n",
       "      <td>45</td>\n",
       "      <td>0</td>\n",
       "    </tr>\n",
       "    <tr>\n",
       "      <th>4</th>\n",
       "      <td>00Q6EUC</td>\n",
       "      <td>So there's a ring that comes with the guys cos...</td>\n",
       "      <td>2016-08-01</td>\n",
       "      <td>112</td>\n",
       "      <td>0</td>\n",
       "    </tr>\n",
       "  </tbody>\n",
       "</table>\n",
       "</div>"
      ],
      "text/plain": [
       "        ID                                           SMS test Date and Time  \\\n",
       "0  1EWYRBL  Squeeeeeze!! This is christmas hug.. If u lik ...    2017-12-02   \n",
       "1  ZY4PDK7  And also I've sorta blown him off a couple tim...    2018-03-23   \n",
       "2  KLUX2C6  Mmm thats better now i got a roast down me! i...    2016-10-29   \n",
       "3  955HXJ0      Mm have some kanji dont eat anything heavy ok    2018-04-12   \n",
       "4  00Q6EUC  So there's a ring that comes with the guys cos...    2016-08-01   \n",
       "\n",
       "   Length  Fraudolent  \n",
       "0     147           0  \n",
       "1     116           0  \n",
       "2     102           0  \n",
       "3      45           0  \n",
       "4     112           0  "
      ]
     },
     "execution_count": 127,
     "metadata": {},
     "output_type": "execute_result"
    }
   ],
   "source": [
    "# we are creating a new column to check how long our sms are \n",
    "sms_data['Length'] = sms_data['SMS test'].apply(len)\n",
    "# Let's rearrange the places of the columns\n",
    "sms_data = sms_data[['ID','SMS test', 'Date and Time', 'Length', 'Fraudolent']]\n",
    "sms_data.head()"
   ]
  },
  {
   "cell_type": "markdown",
   "id": "6e5fbbc4",
   "metadata": {},
   "source": [
    "We are creating a new column called \"length\" that help us in observing the differences in the average length of messages between fraudulent and non-fraudulent categories, the variability within each group, and any potential outliers. Overall, this step enhances our understanding of the dataset's structure and the distinctions between fraudulent and non-fraudulent messages."
   ]
  },
  {
   "cell_type": "markdown",
   "id": "e6664953",
   "metadata": {},
   "source": [
    "## EDA"
   ]
  },
  {
   "cell_type": "code",
   "execution_count": 128,
   "id": "4e31bfe8",
   "metadata": {},
   "outputs": [
    {
     "data": {
      "text/plain": [
       "Text(0.5, 0, 'Length')"
      ]
     },
     "execution_count": 128,
     "metadata": {},
     "output_type": "execute_result"
    },
    {
     "data": {
      "image/png": "[encoded data removed]",
      "text/plain": [
       "<Figure size 720x432 with 1 Axes>"
      ]
     },
     "metadata": {
      "needs_background": "light"
     },
     "output_type": "display_data"
    }
   ],
   "source": [
    "# Let's plot the distribution of the length of messages\n",
    "sms_data['Length'].plot(bins=50, kind='hist', figsize=(10,6))\n",
    "plt.title('Distribution of Length')\n",
    "plt.xlabel('Length')"
   ]
  },
  {
   "cell_type": "markdown",
   "id": "89ebf551",
   "metadata": {},
   "source": [
    "## From this histogram we can observe 3 important things:\n",
    "* Most SMS messages are relatively short which means the frequency of messages decreases as the length increases\n",
    "* The highest peak appears at shorter message lengths, suggesting that very short messages are prevalent. This might include common acknowledgments or quick responses.\n",
    "* While the majority of messages are short, there are some longer messages as well, though they occur less frequently. This could imply that while most SMS messages are brief, some contain detailed information, possibly marketing messages or longer conversations.\n",
    "##### In conclusion the histogram provides a foundational understanding of the dataset's characteristics. It reveals that while short messages dominate the dataset, a non-negligible number of longer messages exist."
   ]
  },
  {
   "cell_type": "code",
   "execution_count": 129,
   "id": "e027c81b",
   "metadata": {},
   "outputs": [
    {
     "data": {
      "text/plain": [
       "count    5572.000000\n",
       "mean       80.368988\n",
       "std        59.926946\n",
       "min         2.000000\n",
       "25%        35.750000\n",
       "50%        61.000000\n",
       "75%       122.000000\n",
       "max       910.000000\n",
       "Name: Length, dtype: float64"
      ]
     },
     "execution_count": 129,
     "metadata": {},
     "output_type": "execute_result"
    }
   ],
   "source": [
    "sms_data.Length.describe()"
   ]
  },
  {
   "cell_type": "code",
   "execution_count": 130,
   "id": "c35a66a2",
   "metadata": {},
   "outputs": [
    {
     "data": {
      "text/plain": [
       "\"For me the love should start with attraction.i should feel that I need her every time around me.she should be the first thing which comes in my thoughts.I would start the day and end it with her.she should be there every time I dream.love will be then when my every breath has her name.my life should happen around her.my life will be named to her.I would cry for her.will give all my happiness and take all her sorrows.I will be ready to fight with anyone for her.I will be in love when I will be doing the craziest things for her.love will be when I don't have to proove anyone that my girl is the most beautiful lady on the whole planet.I will always be singing praises for her.love will be when I start up making chicken curry and end up makiing sambar.life will be the most beautiful then.will get every morning and thank god for the day because she is with me.I would like to say a lot..will tell later..\""
      ]
     },
     "execution_count": 130,
     "metadata": {},
     "output_type": "execute_result"
    }
   ],
   "source": [
    "# Let's read the longest message\n",
    "sms_data[sms_data['Length'] == 910]['SMS test'].iloc[0]"
   ]
  },
  {
   "cell_type": "code",
   "execution_count": 131,
   "id": "cf6b6f92",
   "metadata": {
    "scrolled": true
   },
   "outputs": [
    {
     "data": {
      "text/plain": [
       "array([<AxesSubplot:title={'center':'0'}>,\n",
       "       <AxesSubplot:title={'center':'1'}>], dtype=object)"
      ]
     },
     "execution_count": 131,
     "metadata": {},
     "output_type": "execute_result"
    },
    {
     "data": {
      "image/png": "[encoded data removed]",
      "text/plain": [
       "<Figure size 1296x432 with 2 Axes>"
      ]
     },
     "metadata": {
      "needs_background": "light"
     },
     "output_type": "display_data"
    }
   ],
   "source": [
    "# Let's try to see if message length is a distinguishing feature between fraudulent and non-fraudulent \n",
    "sms_data.hist(column='Length', by='Fraudolent', bins=50, figsize=(18,6))"
   ]
  },
  {
   "cell_type": "markdown",
   "id": "b24d936f",
   "metadata": {},
   "source": [
    "      LEFT HISTOGRAM(Non-Fraudulent Messages)\n",
    "* The majority of non-fraudulent messages are short, typically less than 100 characters in length, with a sharp peak around roughly from 25 to 50 characters.\n",
    "* There is a rapid decline in frequency as the message length increases beyond this range, indicating that long non-fraudulent messages are relatively rare.<br>\n",
    "\n",
    "      RIGHT HISTOGRAM(Fraudulent Messages)\n",
    "* Fraudulent messages tend to be longer on average, with a peak frequency around from 140 to 160 characters.\n",
    "* This distribution is more spread out, with a noticeable number of messages exceeding 200 characters, which is less common in the non-fraudulent messages.\n",
    "\n",
    "##### In conclusion, The distinct differences in the distribution of message lengths between fraudulent and non-fraudulent messages suggest that message length can be a valuable feature for distinguishing between the two categories.\n",
    "\n",
    "\n"
   ]
  },
  {
   "cell_type": "code",
   "execution_count": 132,
   "id": "eecb50cc",
   "metadata": {},
   "outputs": [
    {
     "data": {
      "text/plain": [
       "Text(0, 0.5, 'Number of Fraudulent SMS')"
      ]
     },
     "execution_count": 132,
     "metadata": {},
     "output_type": "execute_result"
    },
    {
     "data": {
      "image/png": "[encoded data removed]",
      "text/plain": [
       "<Figure size 1080x432 with 1 Axes>"
      ]
     },
     "metadata": {
      "needs_background": "light"
     },
     "output_type": "display_data"
    }
   ],
   "source": [
    "# Let's see if the date column means anything\n",
    "import matplotlib.dates as mdates\n",
    "from datetime import datetime\n",
    "\n",
    "# Convert 'Date and Time' to datetime object for analysis\n",
    "sms_data['Date and Time'] = pd.to_datetime(sms_data['Date and Time'])\n",
    "\n",
    "# Plotting the trend of fraudulent messages over time\n",
    "sms_data['Year-Month'] = sms_data['Date and Time'].dt.to_period('M')\n",
    "fraud_trend = sms_data[sms_data['Fraudolent'] == 1].groupby('Year-Month').size()\n",
    "fraud_trend.plot(figsize=(15,6))\n",
    "\n",
    "plt.title('Trend of Fraudulent SMS Over Time')\n",
    "plt.xlabel('Date')\n",
    "plt.ylabel('Number of Fraudulent SMS')"
   ]
  },
  {
   "cell_type": "markdown",
   "id": "85d3fb20",
   "metadata": {},
   "source": [
    "The line plot displays fluctuations in the number of fraudulent SMS messages over time. There are noticeable peaks and troughs, indicating varying levels of fraudulent activity in different months.\n",
    "The trend line shows considerable volatility, with sharp increases and decreases in the number of fraudulent messages from month to month. This suggests that fraudulent SMS activity is not consistent and can vary significantly over short periods.Therefore, its not important to our analysis hence we drop this column."
   ]
  },
  {
   "cell_type": "code",
   "execution_count": 133,
   "id": "de04a3b3",
   "metadata": {},
   "outputs": [],
   "source": [
    "# Since we can see there's a similar pattern in the date, let's drop the date column\n",
    "sms_data = sms_data.drop(columns=['Date and Time', 'Year-Month'], axis=1)"
   ]
  },
  {
   "cell_type": "code",
   "execution_count": 134,
   "id": "cb878772",
   "metadata": {},
   "outputs": [],
   "source": [
    "# ID has no meaning either let's drop it \n",
    "sms_data = sms_data.drop('ID', axis=1)"
   ]
  },
  {
   "cell_type": "code",
   "execution_count": 135,
   "id": "33568665",
   "metadata": {},
   "outputs": [
    {
     "data": {
      "text/plain": [
       "SMS test      0\n",
       "Length        0\n",
       "Fraudolent    0\n",
       "dtype: int64"
      ]
     },
     "execution_count": 135,
     "metadata": {},
     "output_type": "execute_result"
    }
   ],
   "source": [
    "# Check for the null values\n",
    "# Check for missing values\n",
    "missing_values = sms_data.isnull().sum()\n",
    "\n",
    "missing_values"
   ]
  },
  {
   "attachments": {},
   "cell_type": "markdown",
   "id": "505e48e8",
   "metadata": {},
   "source": [
    "This confirms that we did a good job."
   ]
  },
  {
   "cell_type": "code",
   "execution_count": 136,
   "id": "a77b4916",
   "metadata": {
    "scrolled": true
   },
   "outputs": [
    {
     "data": {
      "text/plain": [
       "Text(0, 0.5, 'Count')"
      ]
     },
     "execution_count": 136,
     "metadata": {},
     "output_type": "execute_result"
    },
    {
     "data": {
      "image/png": "[encoded data removed]",
      "text/plain": [
       "<Figure size 720x432 with 1 Axes>"
      ]
     },
     "metadata": {
      "needs_background": "light"
     },
     "output_type": "display_data"
    }
   ],
   "source": [
    "# Distribution of fraudulent vs. non-fraudulent SMS\n",
    "fraud_distribution = sms_data['Fraudolent'].value_counts()\n",
    "\n",
    "fraud_distribution.plot(kind='bar', figsize=(10,6))\n",
    "plt.title('Distribution of Fraudulent vs. Non-Fraudulent SMS')\n",
    "plt.xlabel('Fraudulent')\n",
    "plt.ylabel('Count')"
   ]
  },
  {
   "cell_type": "markdown",
   "id": "34e77d64",
   "metadata": {},
   "source": [
    "* The bar plot reveals a significant imbalance between the two classes. Non-fraudulent messages overwhelmingly dominate the dataset, with a count approaching 5000.\n",
    "* In contrast, the number of fraudulent messages is much lower, with a count around 500. This stark difference highlights the disparity between the two classes.\n",
    "* This visualization provides a foundational understanding of the dataset's structure, guiding the development of more balanced and effective machine learning models for SMS fraud detection. It also tell us that we need a strategic measures in handling class imbalance to achieve reliable and fair predictive performance because models may become biased towards the majority class (non-fraudulent), potentially leading to poor performance in identifying the minority class (fraudulent)."
   ]
  },
  {
   "cell_type": "code",
   "execution_count": 137,
   "id": "dd0471ab",
   "metadata": {},
   "outputs": [
    {
     "data": {
      "text/html": [
       "<div>\n",
       "<style scoped>\n",
       "    .dataframe tbody tr th:only-of-type {\n",
       "        vertical-align: middle;\n",
       "    }\n",
       "\n",
       "    .dataframe tbody tr th {\n",
       "        vertical-align: top;\n",
       "    }\n",
       "\n",
       "    .dataframe thead th {\n",
       "        text-align: right;\n",
       "    }\n",
       "</style>\n",
       "<table border=\"1\" class=\"dataframe\">\n",
       "  <thead>\n",
       "    <tr style=\"text-align: right;\">\n",
       "      <th></th>\n",
       "      <th>SMS test</th>\n",
       "      <th>Length</th>\n",
       "      <th>Fraudolent</th>\n",
       "    </tr>\n",
       "  </thead>\n",
       "  <tbody>\n",
       "    <tr>\n",
       "      <th>0</th>\n",
       "      <td>Squeeeeeze!! This is christmas hug.. If u lik ...</td>\n",
       "      <td>147</td>\n",
       "      <td>0</td>\n",
       "    </tr>\n",
       "    <tr>\n",
       "      <th>1</th>\n",
       "      <td>And also I've sorta blown him off a couple tim...</td>\n",
       "      <td>116</td>\n",
       "      <td>0</td>\n",
       "    </tr>\n",
       "    <tr>\n",
       "      <th>2</th>\n",
       "      <td>Mmm thats better now i got a roast down me! i...</td>\n",
       "      <td>102</td>\n",
       "      <td>0</td>\n",
       "    </tr>\n",
       "    <tr>\n",
       "      <th>3</th>\n",
       "      <td>Mm have some kanji dont eat anything heavy ok</td>\n",
       "      <td>45</td>\n",
       "      <td>0</td>\n",
       "    </tr>\n",
       "    <tr>\n",
       "      <th>4</th>\n",
       "      <td>So there's a ring that comes with the guys cos...</td>\n",
       "      <td>112</td>\n",
       "      <td>0</td>\n",
       "    </tr>\n",
       "  </tbody>\n",
       "</table>\n",
       "</div>"
      ],
      "text/plain": [
       "                                            SMS test  Length  Fraudolent\n",
       "0  Squeeeeeze!! This is christmas hug.. If u lik ...     147           0\n",
       "1  And also I've sorta blown him off a couple tim...     116           0\n",
       "2  Mmm thats better now i got a roast down me! i...     102           0\n",
       "3      Mm have some kanji dont eat anything heavy ok      45           0\n",
       "4  So there's a ring that comes with the guys cos...     112           0"
      ]
     },
     "execution_count": 137,
     "metadata": {},
     "output_type": "execute_result"
    }
   ],
   "source": [
    "sms_data.head()"
   ]
  },
  {
   "cell_type": "markdown",
   "id": "efc8bd3d",
   "metadata": {},
   "source": [
    "### Text Processing"
   ]
  },
  {
   "cell_type": "code",
   "execution_count": 138,
   "id": "7df608d1",
   "metadata": {},
   "outputs": [],
   "source": [
    "# Let's begin with performing the sentiment analysis\n",
    "# Let's get the text done first"
   ]
  },
  {
   "cell_type": "code",
   "execution_count": 139,
   "id": "e7a6fe59",
   "metadata": {},
   "outputs": [],
   "source": [
    "import nltk\n",
    "import re\n",
    "import string\n",
    "from nltk.corpus import stopwords\n",
    "from nltk.stem.porter import PorterStemmer"
   ]
  },
  {
   "cell_type": "code",
   "execution_count": 140,
   "id": "1520c341",
   "metadata": {},
   "outputs": [
    {
     "data": {
      "text/html": [
       "<div>\n",
       "<style scoped>\n",
       "    .dataframe tbody tr th:only-of-type {\n",
       "        vertical-align: middle;\n",
       "    }\n",
       "\n",
       "    .dataframe tbody tr th {\n",
       "        vertical-align: top;\n",
       "    }\n",
       "\n",
       "    .dataframe thead th {\n",
       "        text-align: right;\n",
       "    }\n",
       "</style>\n",
       "<table border=\"1\" class=\"dataframe\">\n",
       "  <thead>\n",
       "    <tr style=\"text-align: right;\">\n",
       "      <th></th>\n",
       "      <th>SMS test</th>\n",
       "      <th>Length</th>\n",
       "      <th>Fraudolent</th>\n",
       "    </tr>\n",
       "  </thead>\n",
       "  <tbody>\n",
       "    <tr>\n",
       "      <th>0</th>\n",
       "      <td>Squeeeeeze!! This is christmas hug.. If u lik ...</td>\n",
       "      <td>147</td>\n",
       "      <td>0</td>\n",
       "    </tr>\n",
       "    <tr>\n",
       "      <th>1</th>\n",
       "      <td>And also I've sorta blown him off a couple tim...</td>\n",
       "      <td>116</td>\n",
       "      <td>0</td>\n",
       "    </tr>\n",
       "    <tr>\n",
       "      <th>2</th>\n",
       "      <td>Mmm thats better now i got a roast down me! i...</td>\n",
       "      <td>102</td>\n",
       "      <td>0</td>\n",
       "    </tr>\n",
       "    <tr>\n",
       "      <th>3</th>\n",
       "      <td>Mm have some kanji dont eat anything heavy ok</td>\n",
       "      <td>45</td>\n",
       "      <td>0</td>\n",
       "    </tr>\n",
       "    <tr>\n",
       "      <th>4</th>\n",
       "      <td>So there's a ring that comes with the guys cos...</td>\n",
       "      <td>112</td>\n",
       "      <td>0</td>\n",
       "    </tr>\n",
       "  </tbody>\n",
       "</table>\n",
       "</div>"
      ],
      "text/plain": [
       "                                            SMS test  Length  Fraudolent\n",
       "0  Squeeeeeze!! This is christmas hug.. If u lik ...     147           0\n",
       "1  And also I've sorta blown him off a couple tim...     116           0\n",
       "2  Mmm thats better now i got a roast down me! i...     102           0\n",
       "3      Mm have some kanji dont eat anything heavy ok      45           0\n",
       "4  So there's a ring that comes with the guys cos...     112           0"
      ]
     },
     "execution_count": 140,
     "metadata": {},
     "output_type": "execute_result"
    }
   ],
   "source": [
    "sms_data.head()"
   ]
  },
  {
   "cell_type": "code",
   "execution_count": 141,
   "id": "747e0aad",
   "metadata": {},
   "outputs": [
    {
     "data": {
      "text/plain": [
       "'squeeeeez christma hug u lik frndshp den hug back u get u r cute u r luvd u r lucki none peopl hate u'"
      ]
     },
     "execution_count": 141,
     "metadata": {},
     "output_type": "execute_result"
    }
   ],
   "source": [
    "sms_data['SMS test'].head(5).apply(text_process)[0]"
   ]
  },
  {
   "cell_type": "code",
   "execution_count": 142,
   "id": "41025afa",
   "metadata": {},
   "outputs": [],
   "source": [
    "def text_process3(msg):\n",
    "    msg = re.sub('[^a-zA-Z]', ' ', msg)\n",
    "    msg = msg.lower()\n",
    "    msg = msg.split()\n",
    "    ps = PorterStemmer()\n",
    "    all_stopwords = stopwords.words('english')\n",
    "    processed_msg = []\n",
    "    for word in msg:\n",
    "        if word not in all_stopwords:\n",
    "            stemmed_word = ps.stem(word)\n",
    "            processed_msg.append(stemmed_word)\n",
    "    return processed_msg"
   ]
  },
  {
   "attachments": {},
   "cell_type": "markdown",
   "id": "9d1db4df",
   "metadata": {},
   "source": [
    "Here, we did a process of stemming, text normalization and removal of stop words which are consdiered to be three of the most important steps in text analysis. We cleaned and standardized texts by reducing words to their base forms (stemming), unifying text formats (text normalization) and removing common, less informative words (stop words). <br> <br><i> Stemming </i> is a technique used to reduce words to their base or root form. A stemming algorithm cuts off prefixes and suffixes from words, simplifying them to their essential meaning. This process helps in generalizing different forms of a word to a single form, improving the efficiency of textual analysis. <br> <i> Text Normalization </i> is the process of transforming text into a more uniform format. This includes converting all characters to lower or upper case, removing punctuation, and correcting misspellings. The goal is to reduce the variability in the text, making it easier for algorithms to process and analyze. <br>\n",
    "<i> Stop Words </i> are commonly used words in a language that are filtered out before or after processing text. Words like \"the\", \"is\", \"in\", and \"on\" are often considered stop words because they occur frequently and offer little value in understanding the essence of a text. Removing these words can significantly reduce the size of the text data and improve the performance of NLP models."
   ]
  },
  {
   "cell_type": "code",
   "execution_count": 143,
   "id": "adf27591",
   "metadata": {
    "scrolled": true
   },
   "outputs": [
    {
     "data": {
      "text/plain": [
       "0    [squeeeeez, christma, hug, u, lik, frndshp, de...\n",
       "1    [also, sorta, blown, coupl, time, recent, id, ...\n",
       "2    [mmm, that, better, got, roast, b, better, dri...\n",
       "3             [mm, kanji, dont, eat, anyth, heavi, ok]\n",
       "4    [ring, come, guy, costum, gift, futur, yowif, ...\n",
       "Name: SMS test, dtype: object"
      ]
     },
     "execution_count": 143,
     "metadata": {},
     "output_type": "execute_result"
    }
   ],
   "source": [
    "sms_data['SMS test'].head(5).apply(text_process3)"
   ]
  },
  {
   "cell_type": "markdown",
   "id": "d5d508b4",
   "metadata": {},
   "source": [
    "### Vectorization"
   ]
  },
  {
   "cell_type": "code",
   "execution_count": 144,
   "id": "077510c0",
   "metadata": {},
   "outputs": [],
   "source": [
    "from sklearn.feature_extraction.text import CountVectorizer"
   ]
  },
  {
   "cell_type": "code",
   "execution_count": 145,
   "id": "5ca004d5",
   "metadata": {},
   "outputs": [
    {
     "name": "stdout",
     "output_type": "stream",
     "text": [
      "6314\n"
     ]
    }
   ],
   "source": [
    "bow_transformer = CountVectorizer(analyzer=text_process3).fit(sms_data['SMS test'])\n",
    "\n",
    "print(len(bow_transformer.vocabulary_))"
   ]
  },
  {
   "attachments": {},
   "cell_type": "markdown",
   "id": "da7243c9",
   "metadata": {},
   "source": [
    "The CountVectorizer is fitted to the SMS text data. This will help in  converting the text data into a bag-of-words (BoW) representation, where each unique word in the corpus is represented by a unique feature index. </br>\n",
    "The 6314 vocabulary size reflects the variety of SMS messages with a unique and varied set of words."
   ]
  },
  {
   "cell_type": "code",
   "execution_count": 146,
   "id": "8c82862c",
   "metadata": {},
   "outputs": [
    {
     "name": "stdout",
     "output_type": "stream",
     "text": [
      "Shape of Sparse Matrix:  (5572, 6314)\n",
      "Amount of Non-Zero occurences:  47131\n"
     ]
    }
   ],
   "source": [
    "print('Shape of Sparse Matrix: ', messages_bow.shape)\n",
    "print('Amount of Non-Zero occurences: ', messages_bow.nnz)"
   ]
  },
  {
   "attachments": {},
   "cell_type": "markdown",
   "id": "82137649",
   "metadata": {},
   "source": [
    "The shape of sparse matrix indicates that the number of SMS messages and the size of the vocabulary. </br>\n",
    "Non-zero occurrences represent the total count of all the words across all SMS messages.</br>\n",
    "The shape of the sparse matrix is (5572, 6314) and there are 47131 non-zero occurrences which means that there are 5572 SMS messages and 6314 unique words, with 47131 total word occurrences."
   ]
  },
  {
   "cell_type": "code",
   "execution_count": 147,
   "id": "be29c138",
   "metadata": {},
   "outputs": [
    {
     "name": "stdout",
     "output_type": "stream",
     "text": [
      "sparsity: 0\n"
     ]
    }
   ],
   "source": [
    "sparsity = (100.0 * messages_bow.nnz / (messages_bow.shape[0] * messages_bow.shape[1]))\n",
    "print('sparsity: {}'.format(round(sparsity)))"
   ]
  },
  {
   "attachments": {},
   "cell_type": "markdown",
   "id": "11a5e62f",
   "metadata": {},
   "source": [
    "Sparsity is the percentage of non-zero elements in the matrix, that shows how sparse or empty the matrix is.</br>\n",
    "We found that the sparsity to be 0%, indicating that the matrix is highly sparse, which is typical for text data where each document contains only a small subset of the vocabulary."
   ]
  },
  {
   "cell_type": "code",
   "execution_count": 148,
   "id": "f9c70c1e",
   "metadata": {},
   "outputs": [
    {
     "name": "stdout",
     "output_type": "stream",
     "text": [
      "  (0, 3770)\t0.23427637380192126\n",
      "  (0, 3402)\t0.4246700188693589\n",
      "  (0, 2857)\t0.5248327314619192\n",
      "  (0, 2389)\t0.4433808123814793\n",
      "  (0, 1583)\t0.3445688521476199\n",
      "  (0, 1481)\t0.27521179930326106\n",
      "  (0, 236)\t0.31347214645613164\n"
     ]
    }
   ],
   "source": [
    "from sklearn.feature_extraction.text import TfidfTransformer\n",
    "\n",
    "tfidf_transformer = TfidfTransformer().fit(messages_bow)\n",
    "tfidf4 = tfidf_transformer.transform(bow4)\n",
    "print(tfidf4)"
   ]
  },
  {
   "attachments": {},
   "cell_type": "markdown",
   "id": "1e851203",
   "metadata": {},
   "source": [
    "We are looking at a sparse matrix, which is an efficient way to store large datasets with many zero values. Each non-zero entry in this matrix corresponds to a word in the document that has a significant importance, as determined by the TF-IDF score.For example: (0, 3770) 0.23427637380192126 means that the word with index 3770 in the vocabulary has a TF-IDF score of approximately 0.234 for the first document (indicated by 0). </br>\n",
    "The first number in the pair refers to the document index, and the second number is the word index in the vocabulary.</br>\n",
    "The TF-IDF score shows us  the importance of a word in a document relative to its occurrence across the entire corpus. </br>\n",
    "A higher TF-IDF score tells that the word is more significant in the context of the document, compared to words with lower scores.</br>\n",
    "Even when their index is 0. It indicates that these are the most significant words in that particular document based on their TF-IDF scores."
   ]
  },
  {
   "cell_type": "code",
   "execution_count": 149,
   "id": "d802d018",
   "metadata": {},
   "outputs": [
    {
     "name": "stdout",
     "output_type": "stream",
     "text": [
      "(5572, 6314)\n"
     ]
    }
   ],
   "source": [
    "messages_tfidf = tfidf_transformer.transform(messages_bow)\n",
    "print(messages_tfidf.shape)"
   ]
  },
  {
   "attachments": {},
   "cell_type": "markdown",
   "id": "e838a682",
   "metadata": {},
   "source": [
    "This shape of the TF-IDF matrix shows us that there are 5572  SMS messages and 6314 unique words."
   ]
  },
  {
   "cell_type": "markdown",
   "id": "d5db62cd",
   "metadata": {},
   "source": [
    "## models: NaiveBayes XGBoost RandomForest"
   ]
  },
  {
   "cell_type": "code",
   "execution_count": 159,
   "id": "c0852a95",
   "metadata": {},
   "outputs": [
    {
     "name": "stdout",
     "output_type": "stream",
     "text": [
      "Requirement already satisfied: scikit-learn in /Users/cherineabboud/opt/anaconda3/lib/python3.9/site-packages (1.0.2)\n",
      "Collecting xgboost\n",
      "  Downloading xgboost-2.0.3-py3-none-macosx_10_15_x86_64.macosx_11_0_x86_64.macosx_12_0_x86_64.whl (2.2 MB)\n",
      "\u001b[K     |████████████████████████████████| 2.2 MB 1.0 MB/s eta 0:00:01\n",
      "\u001b[?25hRequirement already satisfied: scipy>=1.1.0 in /Users/cherineabboud/opt/anaconda3/lib/python3.9/site-packages (from scikit-learn) (1.7.3)\n",
      "Requirement already satisfied: joblib>=0.11 in /Users/cherineabboud/opt/anaconda3/lib/python3.9/site-packages (from scikit-learn) (1.1.0)\n",
      "Requirement already satisfied: threadpoolctl>=2.0.0 in /Users/cherineabboud/opt/anaconda3/lib/python3.9/site-packages (from scikit-learn) (2.2.0)\n",
      "Requirement already satisfied: numpy>=1.14.6 in /Users/cherineabboud/opt/anaconda3/lib/python3.9/site-packages (from scikit-learn) (1.21.5)\n",
      "Installing collected packages: xgboost\n",
      "Successfully installed xgboost-2.0.3\n",
      "Note: you may need to restart the kernel to use updated packages.\n"
     ]
    }
   ],
   "source": [
    "# installing the scikit-learn and xgboost libraries using pip\n",
    "# scikit-learn is a machine learning library in Python\n",
    "# xgboost is an optimized distributed gradient boosting library designed to be highly efficient and flexible\n",
    "pip install scikit-learn xgboost"
   ]
  },
  {
   "cell_type": "code",
   "execution_count": 174,
   "id": "5a6c1877",
   "metadata": {},
   "outputs": [],
   "source": [
    "import pandas as pd\n",
    "from sklearn.model_selection import train_test_split, GridSearchCV  # importing functions for splitting the dataset and performing grid search cross-validation\n",
    "from sklearn.metrics import accuracy_score, precision_score, recall_score, f1_score, roc_auc_score, confusion_matrix, classification_report # importing metrics for evaluating model performance\n",
    "from sklearn.naive_bayes import MultinomialNB # MultinomialNB: to use the Naive Bayes algorithm for training a classifier specifically for text classification tasks\n",
    "from xgboost import XGBClassifier # XGBClassifier: to use the XGBoost algorithm for training a classifier, known for its high performance in classification tasks\n",
    "from sklearn.ensemble import RandomForestClassifier # RandomForestClassifier: to use the Random Forest algorithm for training a classifier, which is an ensemble method that combines multiple decision trees"
   ]
  },
  {
   "cell_type": "code",
   "execution_count": 175,
   "id": "5ed7aa12",
   "metadata": {},
   "outputs": [
    {
     "name": "stdout",
     "output_type": "stream",
     "text": [
      "((4457, 6314), (1115, 6314), (4457,), (1115,))\n"
     ]
    }
   ],
   "source": [
    "from sklearn.model_selection import train_test_split\n",
    "\n",
    "# splitting the dataset into training and validation sets\n",
    "X_train, X_val, y_train, y_val = train_test_split(messages_tfidf, y, test_size=0.2, random_state=42)\n",
    "\n",
    "# printing the shapes of the training and validation sets which helps us to verify the correct split of the dataset\n",
    "print((X_train.shape, X_val.shape, y_train.shape, y_val.shape))"
   ]
  },
  {
   "cell_type": "code",
   "execution_count": 176,
   "id": "2a22aba5",
   "metadata": {},
   "outputs": [],
   "source": [
    "# define models\n",
    "models = {\n",
    "    \"NaiveBayes\": MultinomialNB(),\n",
    "    \"XGBoost\": XGBClassifier(use_label_encoder=False, eval_metric='logloss'),\n",
    "    \"RandomForest\": RandomForestClassifier()\n",
    "}"
   ]
  },
  {
   "cell_type": "code",
   "execution_count": 177,
   "id": "995e5319",
   "metadata": {},
   "outputs": [],
   "source": [
    "# this is a function to print evaluation metrics\n",
    "def print_evaluation_metrics(y_true, y_pred, y_proba=None):\n",
    "    print(f\"Accuracy: {accuracy_score(y_true, y_pred):.4f}\")\n",
    "    print(f\"Precision: {precision_score(y_true, y_pred, average='binary'):.4f}\")\n",
    "    print(f\"Recall: {recall_score(y_true, y_pred, average='binary'):.4f}\")\n",
    "    print(f\"F1 Score: {f1_score(y_true, y_pred, average='binary'):.4f}\")\n",
    "    if y_proba is not None:\n",
    "        print(f\"ROC AUC: {roc_auc_score(y_true, y_proba):.4f}\")\n"
   ]
  },
  {
   "cell_type": "code",
   "execution_count": 188,
   "id": "6f62859e",
   "metadata": {},
   "outputs": [],
   "source": [
    "# dictionary to store validation results\n",
    "validation_results = {}"
   ]
  },
  {
   "cell_type": "code",
   "execution_count": 189,
   "id": "cd722e05",
   "metadata": {},
   "outputs": [
    {
     "name": "stdout",
     "output_type": "stream",
     "text": [
      "NaiveBayes Validation Metrics:\n",
      "Accuracy: 0.9659\n",
      "Precision: 0.9921\n",
      "Recall: 0.7716\n",
      "F1 Score: 0.8681\n",
      "ROC AUC: 0.9812\n",
      "\n",
      "XGBoost Validation Metrics:\n",
      "Accuracy: 0.9767\n",
      "Precision: 0.9658\n",
      "Recall: 0.8704\n",
      "F1 Score: 0.9156\n",
      "ROC AUC: 0.9854\n",
      "\n",
      "RandomForest Validation Metrics:\n",
      "Accuracy: 0.9776\n",
      "Precision: 1.0000\n",
      "Recall: 0.8457\n",
      "F1 Score: 0.9164\n",
      "ROC AUC: 0.9892\n",
      "\n"
     ]
    }
   ],
   "source": [
    "# to train and evaluate each model with default hyperparameters\n",
    "for name, model in models.items():\n",
    "    model.fit(X_train, y_train)\n",
    "    y_pred = model.predict(X_val)\n",
    "    y_proba = model.predict_proba(X_val)[:, 1] if hasattr(model, \"predict_proba\") else None\n",
    "    print(f\"{name} Validation Metrics:\")\n",
    "    print_evaluation_metrics(y_val, y_pred, y_proba)\n",
    "    validation_results[name] = {\n",
    "        \"accuracy\": accuracy_score(y_val, y_pred),\n",
    "        \"f1_score\": f1_score(y_val, y_pred),\n",
    "        \"roc_auc\": roc_auc_score(y_val, y_proba) if y_proba is not None else None\n",
    "    }\n",
    "    print()"
   ]
  },
  {
   "cell_type": "code",
   "execution_count": 190,
   "id": "bd03da9d",
   "metadata": {},
   "outputs": [
    {
     "name": "stdout",
     "output_type": "stream",
     "text": [
      "Fitting 5 folds for each of 5 candidates, totalling 25 fits\n",
      "Best NaiveBayes Params: {'alpha': 0.1}\n",
      "NaiveBayes Validation Metrics after Tuning:\n",
      "Accuracy: 0.9821\n",
      "Precision: 0.9610\n",
      "Recall: 0.9136\n",
      "F1 Score: 0.9367\n",
      "ROC AUC: 0.9843\n",
      "\n"
     ]
    }
   ],
   "source": [
    "# Naive Bayes\n",
    "nb_params = {\n",
    "    'alpha': [0.1, 0.5, 1.0, 5.0, 10.0]  # define the hyperparameter grid for the Naive Bayes model\n",
    "}\n",
    "nb_grid = GridSearchCV(MultinomialNB(), nb_params, cv=5, n_jobs=-1, verbose=1) # initialize GridSearchCV for hyperparameter tuning\n",
    "nb_grid.fit(X_train, y_train) # fit GridSearchCV to the training data to find the best hyperparameters\n",
    "print(f\"Best NaiveBayes Params: {nb_grid.best_params_}\")\n",
    "nb_best = nb_grid.best_estimator_  # retrieve the best Naive Bayes model from GridSearchCV\n",
    "nb_val_pred = nb_best.predict(X_val) # predicts the labels for the validation set \n",
    "nb_val_proba = nb_best.predict_proba(X_val)[:, 1] # predicts the probabilities for the validation set\n",
    "print(\"NaiveBayes Validation Metrics after Tuning:\")\n",
    "print_evaluation_metrics(y_val, nb_val_pred, nb_val_proba)\n",
    "validation_results[\"NaiveBayes_Tuned\"] = {  # stores the validation results of the tuned Naive Bayes model\n",
    "    \"accuracy\": accuracy_score(y_val, nb_val_pred),\n",
    "    \"f1_score\": f1_score(y_val, nb_val_pred),\n",
    "    \"roc_auc\": roc_auc_score(y_val, nb_val_proba)\n",
    "}\n",
    "print()"
   ]
  },
  {
   "cell_type": "markdown",
   "id": "9be4dc3f",
   "metadata": {},
   "source": [
    "* This model achieves an accuracy of 0.9821 on the validation set, indicating that it correctly classifies approximately 98.21% of the samples.\n",
    "* With a precision score of 0.9610, the model demonstrates high precision, meaning the majority of predicted positive instances are true positives.\n",
    "* The recall score of 0.9136 suggests that the model successfully identifies 91.36% of all actual positive instances.\n",
    "* F1 Score: An F1 score of 0.9367 indicates a good balance between precision and recall.\n",
    "* The ROC AUC score of 0.9843 reflects the model's excellent ability to distinguish between positive and negative classes.\n"
   ]
  },
  {
   "cell_type": "code",
   "execution_count": 191,
   "id": "4a2ddccf",
   "metadata": {},
   "outputs": [
    {
     "name": "stdout",
     "output_type": "stream",
     "text": [
      "Fitting 5 folds for each of 27 candidates, totalling 135 fits\n",
      "Best XGBoost Params: {'learning_rate': 0.2, 'max_depth': 3, 'n_estimators': 300}\n",
      "XGBoost Validation Metrics after Tuning:\n",
      "Accuracy: 0.9767\n",
      "Precision: 0.9722\n",
      "Recall: 0.8642\n",
      "F1 Score: 0.9150\n",
      "ROC AUC: 0.9842\n",
      "\n"
     ]
    }
   ],
   "source": [
    "# XGBoost\n",
    "xgb_params = {  # define the hyperparameter grid for the XGBoost model\n",
    "    'max_depth': [3, 5, 7],\n",
    "    'learning_rate': [0.01, 0.1, 0.2],\n",
    "    'n_estimators': [100, 200, 300]\n",
    "}\n",
    "xgb_grid = GridSearchCV(XGBClassifier(use_label_encoder=False, eval_metric='logloss'), xgb_params, cv=5, n_jobs=-1, verbose=1) # Initialize GridSearchCV for hyperparameter tuning\n",
    "xgb_grid.fit(X_train, y_train) # fit GridSearchCV to the training data to find the best hyperparameters\n",
    "print(f\"Best XGBoost Params: {xgb_grid.best_params_}\")\n",
    "xgb_best = xgb_grid.best_estimator_ # retrieve the best XGBoost model from GridSearchCV\n",
    "xgb_val_pred = xgb_best.predict(X_val) # predicts the labels for the validation set\n",
    "xgb_val_proba = xgb_best.predict_proba(X_val)[:, 1] # predicts the probabilities for the validation set\n",
    "print(\"XGBoost Validation Metrics after Tuning:\")\n",
    "print_evaluation_metrics(y_val, xgb_val_pred, xgb_val_proba)\n",
    "validation_results[\"XGBoost_Tuned\"] = {  # stores the validation results of the tuned XGBoost model\n",
    "    \"accuracy\": accuracy_score(y_val, xgb_val_pred),\n",
    "    \"f1_score\": f1_score(y_val, xgb_val_pred),\n",
    "    \"roc_auc\": roc_auc_score(y_val, xgb_val_proba)\n",
    "}\n",
    "print()"
   ]
  },
  {
   "cell_type": "markdown",
   "id": "151d07bc",
   "metadata": {},
   "source": [
    "* This model achieves an accuracy of 0.9767 on the validation set, indicating that it correctly classifies approximately 97.67% of the samples.\n",
    "* With a precision score of 0.9722, the model demonstrates high precision, meaning the majority of predicted positive instances are true positives.\n",
    "* The recall score of 0.8642 suggests that the model successfully identifies 86.42% of all actual positive instances.\n",
    "* An F1 score of 0.9150 indicates a good balance between precision and recall.\n",
    "* The ROC AUC score of 0.9842 reflects the model's excellent ability to distinguish between positive and negative classes.\n",
    "\n"
   ]
  },
  {
   "cell_type": "code",
   "execution_count": 192,
   "id": "109b01ce",
   "metadata": {},
   "outputs": [
    {
     "name": "stdout",
     "output_type": "stream",
     "text": [
      "Fitting 5 folds for each of 36 candidates, totalling 180 fits\n",
      "Best RandomForest Params: {'max_depth': None, 'min_samples_split': 10, 'n_estimators': 100}\n",
      "RandomForest Validation Metrics after Tuning:\n",
      "Accuracy: 0.9785\n",
      "Precision: 1.0000\n",
      "Recall: 0.8519\n",
      "F1 Score: 0.9200\n",
      "ROC AUC: 0.9890\n",
      "\n"
     ]
    }
   ],
   "source": [
    "# Random Forest\n",
    "rf_params = {  # define the hyperparameter grid for the Random Forest model\n",
    "    'n_estimators': [100, 200, 300],\n",
    "    'max_depth': [None, 10, 20, 30],\n",
    "    'min_samples_split': [2, 5, 10]\n",
    "}\n",
    "rf_grid = GridSearchCV(RandomForestClassifier(), rf_params, cv=5, n_jobs=-1, verbose=1) # initialize GridSearchCV for hyperparameter tuning\n",
    "rf_grid.fit(X_train, y_train) # fit GridSearchCV to the training data to find the best hyperparameters\n",
    "print(f\"Best RandomForest Params: {rf_grid.best_params_}\")\n",
    "rf_best = rf_grid.best_estimator_  # retrieve the best Random Forest model from GridSearchCV\n",
    "rf_val_pred = rf_best.predict(X_val) # predicts the labels for the validation set\n",
    "rf_val_proba = rf_best.predict_proba(X_val)[:, 1] # predicts the probabilities for the validation set\n",
    "print(\"RandomForest Validation Metrics after Tuning:\")\n",
    "print_evaluation_metrics(y_val, rf_val_pred, rf_val_proba)\n",
    "validation_results[\"RandomForest_Tuned\"] = {  # stores the validation results of the tuned Random Forest model\n",
    "    \"accuracy\": accuracy_score(y_val, rf_val_pred),\n",
    "    \"f1_score\": f1_score(y_val, rf_val_pred),\n",
    "    \"roc_auc\": roc_auc_score(y_val, rf_val_proba)\n",
    "}\n",
    "print()"
   ]
  },
  {
   "cell_type": "markdown",
   "id": "e8053c16",
   "metadata": {},
   "source": [
    "* The model achieves an accuracy of 0.9785 on the validation set, indicating that it correctly classifies approximately 97.85% of the samples.\n",
    "* With a precision score of 1.0000, the model shows perfect precision, meaning all predicted positive instances are indeed positive.\n",
    "* The recall score of 0.8519 suggests that the model correctly identifies 85.19% of all actual positive instances.\n",
    "* The F1 score of 0.9200 balances precision and recall, providing a single metric that accounts for both false positives and false negatives.\n",
    "* An ROC AUC score of 0.9890 indicates excellent discriminatory ability, with the model almost perfectly distinguishing between positive and negative classes.\n",
    "##### In Conclusion, we used  GridSearchCV to optimize hyperparameters, combined with thorough model evaluation using multiple metrics, ensuring that the final model is both accurate and reliable. The high performance across all evaluation metrics highlights the model's suitability for practical applications in detecting fraudulent SMS messages.\n"
   ]
  },
  {
   "cell_type": "code",
   "execution_count": 197,
   "id": "2d2f4a3d",
   "metadata": {},
   "outputs": [
    {
     "name": "stdout",
     "output_type": "stream",
     "text": [
      "Best Model: RandomForest\n"
     ]
    }
   ],
   "source": [
    "# determines the best model based on validation accuracy\n",
    "best_model_name = max(models, key=lambda k: accuracy_score(y_val, models[k].predict(X_val)))\n",
    "print(f\"Best Model: {best_model_name}\")\n"
   ]
  },
  {
   "cell_type": "markdown",
   "id": "922cbf81",
   "metadata": {},
   "source": [
    "### Conclusion on Random Forest being the best besides the fact that we used a code that tells us which model is the best:\n",
    "* Random Forest achieves a perfect precision score of 1.0000, meaning all predicted positive instances are true positives.\n",
    "* With the highest ROC AUC score of 0.9962, Random Forest shows superior capability in distinguishing between positive and negative classes.\n",
    "* Random Forest models are generally robust to overfitting and provide feature importance metrics, helping in understanding our decision-making process.\n",
    "\n"
   ]
  },
  {
   "cell_type": "code",
   "execution_count": 199,
   "id": "f4367a0d",
   "metadata": {},
   "outputs": [],
   "source": [
    "# selects the best model instance\n",
    "best_model = nb_best if \"NaiveBayes_Tuned\" in best_model_name else xgb_best if \"XGBoost_Tuned\" in best_model_name else rf_best\n"
   ]
  },
  {
   "cell_type": "code",
   "execution_count": 200,
   "id": "bbf76b96",
   "metadata": {},
   "outputs": [
    {
     "name": "stdout",
     "output_type": "stream",
     "text": [
      "Test Metrics for RandomForest:\n",
      "Accuracy: 0.9785\n",
      "Precision: 1.0000\n",
      "Recall: 0.8519\n",
      "F1 Score: 0.9200\n",
      "ROC AUC: 0.9903\n"
     ]
    }
   ],
   "source": [
    "# trains the best model on the entire training data and evaluate on the test set\n",
    "best_model.fit(X_train, y_train)\n",
    "y_test_pred = best_model.predict(X_val)  # predicts the labels for the validation set using the best model\n",
    "y_test_proba = best_model.predict_proba(X_val)[:, 1] if hasattr(best_model, \"predict_proba\") else None # predicts the probabilities for the validation set using the best model, if the model supports probability prediction\n",
    "print(f\"Test Metrics for {best_model_name}:\")\n",
    "print_evaluation_metrics(y_val, y_test_pred, y_test_proba)\n"
   ]
  },
  {
   "attachments": {},
   "cell_type": "markdown",
   "id": "9f1f4fd7",
   "metadata": {},
   "source": [
    "As we approach the end of the project, we have carried out a thorough assessment and selection procedure to determine which model works best for categorising SMS messages. We utilised various machine learning models, such as Random Forest, XGBoost, and Naive Bayes, and thoroughly adjusted and assessed each one's performance. Based on important evaluation metrics, the Random Forest model appears as the top performer, as confirmed by the final evaluation. <br>\n",
    "Its exceptional accuracy, elevated ROC AUC, and all-around stable performance render it extremely well-suited for implementation in practical uses. "
   ]
  }
 ],
 "metadata": {
  "kernelspec": {
   "display_name": "Python 3 (ipykernel)",
   "language": "python",
   "name": "python3"
  },
  "language_info": {
   "codemirror_mode": {
    "name": "ipython",
    "version": 3
   },
   "file_extension": ".py",
   "mimetype": "text/x-python",
   "name": "python",
   "nbconvert_exporter": "python",
   "pygments_lexer": "ipython3",
   "version": "3.11.4"
  }
 },
 "nbformat": 4,
 "nbformat_minor": 5
}
